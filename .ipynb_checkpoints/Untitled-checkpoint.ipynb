{
 "cells": [
  {
   "cell_type": "code",
   "execution_count": 39,
   "metadata": {
    "collapsed": false
   },
   "outputs": [
    {
     "name": "stdout",
     "output_type": "stream",
     "text": [
      "[  0.    2.6  -9.8  -9.8  -9.8  -9.8   2.6  15.   15.    2.6  -9.8]\n",
      "The average positive acceleration is 7.56\n"
     ]
    }
   ],
   "source": [
    "#johanna oday lab7 \n",
    "#part 1\n",
    "#1) Individual plots \n",
    "\n",
    "import numpy as np\n",
    "from scipy import integrate\n",
    "import matplotlib.pyplot as plt\n",
    "import math\n",
    "\n",
    "file_data = np.loadtxt('droptower_vdata.txt')\n",
    "time = file_data[:,0]\n",
    "velocity = file_data[:,1]\n",
    "displacement = integrate.cumtrapz(velocity, x= time, dx = 1.0, initial =0)\n",
    "acceleration = np.diff(velocity)\n",
    "acceleration = np.insert(acceleration,[0],[0])  #set acceleration to zero at start\n",
    "print(acceleration)\n",
    "\n",
    "plt.figure(0)\n",
    "velocity_plot = plt.plot(time,velocity,'r')\n",
    "plt.title(\"Velocity plot\")\n",
    "plt.xlabel(\"Time (s)\")\n",
    "plt.ylabel(\"Velocity (m/s)\")\n",
    "\n",
    "\n",
    "plt.figure(1)\n",
    "displacement_plot = plt.plot(time,displacement,'b')\n",
    "plt.title('Displacement plot')\n",
    "plt.xlabel(\"Time (s)\")\n",
    "plt.ylabel(\"Displacement (m)\")\n",
    "plt.savefig('Displacement Plot.png')\n",
    "\n",
    "\n",
    "#Acceleration\n",
    "plt.figure(2)\n",
    "time2 = np.delete(time,0)\n",
    "#append the time array because ndiff has one less elt since it's\n",
    "#taking the difference between two points and thus will have n-1 elements of array length n\n",
    "acceleration_plot = plt.plot(time,acceleration,'g')\n",
    "plt.title('Acceleration plot')\n",
    "plt.xlabel(\"Time (s)\")\n",
    "plt.ylabel(\"Acceleration (m/s*s)\")\n",
    "plt.savefig('Acceleration Plot.png')\n",
    "\n",
    "#Show all the plots\n",
    "plt.show(0)\n",
    "plt.show(1)\n",
    "plt.show(2)\n",
    "\n",
    "\n",
    "#Extra Question - for some reason have to close all the plots before this prints\n",
    "positive_a = acceleration[acceleration>0]\n",
    "average_a = sum(positive_a)/len(positive_a)\n",
    "print(\"The average positive acceleration is \" + str(average_a))\n"
   ]
  },
  {
   "cell_type": "code",
   "execution_count": 62,
   "metadata": {
    "collapsed": false
   },
   "outputs": [],
   "source": [
    "#2) All 3 lines on the same pair of axes with legend\n",
    "\n",
    "plt.figure(3)\n",
    "plt.plot(time,velocity,'r--',label='Velocity')\n",
    "plt.plot(time,displacement,'b',label='Displacement')\n",
    "plt.plot(time,acceleration,'g',label='Acceleration')\n",
    "plt.title(\"All of the plots, velocity, displacement and acceleration\")\n",
    "plt.xlabel(\"Time (s)\")\n",
    "plt.ylabel(\"Displacement (m), Velocity (m/s), Acceleration (m/s^2)\")\n",
    "plt.legend()\n",
    "plt.savefig(\"All the plots together.png\")\n",
    "plt.show()\n"
   ]
  },
  {
   "cell_type": "code",
   "execution_count": 82,
   "metadata": {
    "collapsed": false
   },
   "outputs": [],
   "source": [
    "#3) All 3 subplots in a figure\n",
    "f, axarr = plt.subplots(3, sharex=True, sharey=True)\n",
    "axarr[0].plot(time,velocity,color='r')\n",
    "axarr[0].set_ylabel(\"Velocity (m/s)\")\n",
    "axarr[1].plot(time,displacement,color='b')\n",
    "axarr[1].set_ylabel(\"Displacement (m)\")\n",
    "axarr[2].plot(time,acceleration,color='g')\n",
    "f.subplots_adjust(hspace=0.1) \n",
    "plt.suptitle(\"Velocity, displacement and acceleration\")\n",
    "plt.xlabel(\"Time (s)\")\n",
    "plt.ylabel(\"Acceleration (m/s^2)\")\n",
    "plt.savefig(\"Subplots together in a plot.png\")\n",
    "plt.show()"
   ]
  },
  {
   "cell_type": "code",
   "execution_count": null,
   "metadata": {
    "collapsed": true
   },
   "outputs": [],
   "source": []
  }
 ],
 "metadata": {
  "kernelspec": {
   "display_name": "Python 3",
   "language": "python",
   "name": "python3"
  },
  "language_info": {
   "codemirror_mode": {
    "name": "ipython",
    "version": 3
   },
   "file_extension": ".py",
   "mimetype": "text/x-python",
   "name": "python",
   "nbconvert_exporter": "python",
   "pygments_lexer": "ipython3",
   "version": "3.5.1"
  }
 },
 "nbformat": 4,
 "nbformat_minor": 0
}
